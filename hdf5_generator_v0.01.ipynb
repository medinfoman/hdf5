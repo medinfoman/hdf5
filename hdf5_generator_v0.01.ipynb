{
 "cells": [
  {
   "cell_type": "markdown",
   "metadata": {},
   "source": [
    "# Hdf5 Generator"
   ]
  },
  {
   "cell_type": "markdown",
   "metadata": {},
   "source": [
    "- This project will help you to generate hdf5 file.\n",
    "- This codes can change & merge all images you input into \"one\" hdf5 file\n",
    "- The image size of inside of the file will be fixed 64x64 (you can manipulate the size)\n",
    "- This code will display how to generate training set, test set of images for your model\n",
    "- You can load the images(converted size) from the hdf5 file (see hdf5_load.ipynb)",
    "- Image file names must be \"name_class\".format (e.g cat_0.jpg)"
   ]
  },
  {
   "cell_type": "code",
   "execution_count": 1,
   "metadata": {},
   "outputs": [],
   "source": [
    "from PIL import Image\n",
    "from resizeimage import resizeimage \n",
    "import numpy as np\n",
    "import os\n",
    "import matplotlib.pyplot as plt\n",
    "%matplotlib inline\n",
    "import h5py "
   ]
  },
  {
   "cell_type": "code",
   "execution_count": 2,
   "metadata": {},
   "outputs": [],
   "source": [
    "# get files in user_img_data \n",
    "def getfilelist(url):\n",
    "    image_urls = []\n",
    "    for (path, dir, files) in os.walk(url):\n",
    "        for filename in files:\n",
    "            ext = os.path.splitext(filename)[-1]\n",
    "            if ext == '.png' or ext == '.jpg' or ext == '.jpeg' or ext == '.gif' or ext == '.bmp' or ext == '.PNG' or ext == '.JPG' or ext == '.JPEG' or ext == '.GIF' or ext == '.BMP':\n",
    "                image_urls.append(path+\"/\"+filename)\n",
    "    return image_urls"
   ]
  },
  {
   "cell_type": "code",
   "execution_count": 3,
   "metadata": {},
   "outputs": [
    {
     "name": "stdout",
     "output_type": "stream",
     "text": [
      "5\n"
     ]
    },
    {
     "ename": "ValueError",
     "evalue": "could not convert string to float: ",
     "output_type": "error",
     "traceback": [
      "\u001b[0;31m---------------------------------------------------------------------------\u001b[0m",
      "\u001b[0;31mValueError\u001b[0m                                Traceback (most recent call last)",
      "\u001b[0;32m<ipython-input-3-8373679b7a9e>\u001b[0m in \u001b[0;36m<module>\u001b[0;34m()\u001b[0m\n\u001b[1;32m     26\u001b[0m     \u001b[0;31m# Goldstandard(class): for example) human image: 1, else: 0\u001b[0m\u001b[0;34m\u001b[0m\u001b[0;34m\u001b[0m\u001b[0m\n\u001b[1;32m     27\u001b[0m     \u001b[0mfileclass\u001b[0m \u001b[0;34m=\u001b[0m \u001b[0mimage_urls\u001b[0m\u001b[0;34m[\u001b[0m\u001b[0mi\u001b[0m\u001b[0;34m]\u001b[0m\u001b[0;34m.\u001b[0m\u001b[0msplit\u001b[0m\u001b[0;34m(\u001b[0m\u001b[0;34m\"_\"\u001b[0m\u001b[0;34m)\u001b[0m\u001b[0;34m[\u001b[0m\u001b[0;34m-\u001b[0m\u001b[0;36m1\u001b[0m\u001b[0;34m]\u001b[0m\u001b[0;34m.\u001b[0m\u001b[0msplit\u001b[0m\u001b[0;34m(\u001b[0m\u001b[0;34m\".\"\u001b[0m\u001b[0;34m)\u001b[0m\u001b[0;34m[\u001b[0m\u001b[0;36m0\u001b[0m\u001b[0;34m]\u001b[0m\u001b[0;34m\u001b[0m\u001b[0m\n\u001b[0;32m---> 28\u001b[0;31m     \u001b[0mmany_classes\u001b[0m\u001b[0;34m[\u001b[0m\u001b[0mi\u001b[0m\u001b[0;34m]\u001b[0m \u001b[0;34m=\u001b[0m \u001b[0mfileclass\u001b[0m\u001b[0;34m\u001b[0m\u001b[0m\n\u001b[0m",
      "\u001b[0;31mValueError\u001b[0m: could not convert string to float: "
     ]
    },
    {
     "data": {
      "image/png": "[encoded data removed]",
      "text/plain": [
       "<Figure size 432x288 with 1 Axes>"
      ]
     },
     "metadata": {},
     "output_type": "display_data"
    }
   ],
   "source": [
    "# training data:\n",
    "# change image sizes (you can set other numbers if you want)\n",
    "row_standard = 64\n",
    "col_standard = 64\n",
    "\n",
    "# get images from the folder \"./data\"\n",
    "image_urls = getfilelist(\"./data\")\n",
    "\n",
    "# All pixel information of images\n",
    "# should be unit8 (or color data will not be stored)\n",
    "many_images = np.empty((len(image_urls), row_standard, col_standard, 3), dtype=np.uint8)\n",
    "many_classes = np.empty((len(image_urls)))\n",
    "\n",
    "# the number of images\n",
    "print(len(image_urls))\n",
    "\n",
    "for i in range(len(image_urls)):\n",
    "    im = Image.open(image_urls[i])\n",
    "    im = resizeimage.resize_contain(im, [row_standard, col_standard])\n",
    "    oneImage = np.array(im)\n",
    "\n",
    "    many_images[i] = oneImage[:,:,0:3]  # Last 4th channel, RGB\"A\" will not be considered\n",
    "                                        # dtype: unit8\n",
    "    plt.imshow(many_images[i])    # display image\n",
    "    \n",
    "    # Goldstandard(class): for example) human image: 1, else: 0\n",
    "    fileclass = image_urls[i].split(\"_\")[-1].split(\".\")[0]\n",
    "    many_classes[i] = fileclass"
   ]
  },
  {
   "cell_type": "code",
   "execution_count": null,
   "metadata": {},
   "outputs": [],
   "source": [
    "# save (training) images\n",
    "f = h5py.File(\"data.hdf5\", \"w\")\n",
    "dset = f.create_dataset(\"train_x\", data = many_images)\n",
    "dset = f.create_dataset(\"train_y\", data = many_classes)\n",
    "f.close()"
   ]
  },
  {
   "cell_type": "code",
   "execution_count": null,
   "metadata": {},
   "outputs": [],
   "source": [
    "f = h5py.File(\"data.hdf5\", \"r\")\n",
    "test_x = np.array(f[\"train_x\"][:])\n",
    "test_y = np.array(f[\"train_y\"][:])\n",
    "f.close"
   ]
  }
 ],
 "metadata": {
  "kernelspec": {
   "display_name": "Python [conda env:handsonml]",
   "language": "python",
   "name": "conda-env-handsonml-py"
  },
  "language_info": {
   "codemirror_mode": {
    "name": "ipython",
    "version": 3
   },
   "file_extension": ".py",
   "mimetype": "text/x-python",
   "name": "python",
   "nbconvert_exporter": "python",
   "pygments_lexer": "ipython3",
   "version": "3.6.6"
  }
 },
 "nbformat": 4,
 "nbformat_minor": 2
}
